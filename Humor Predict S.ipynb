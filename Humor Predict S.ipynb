{
 "cells": [
  {
   "cell_type": "code",
   "execution_count": 44,
   "id": "d1331c33",
   "metadata": {},
   "outputs": [],
   "source": [
    "import pandas as pd\n",
    "import numpy as np\n",
    "import string\n",
    "import matplotlib.pyplot as plt\n",
    "from sklearn.preprocessing import LabelEncoder\n",
    "\n",
    "import tensorflow as tf\n",
    "import tensorflow_hub as hub\n",
    "from tensorflow.keras import layers\n",
    "\n",
    "from tensorflow.keras.layers import Embedding, Concatenate, Dense, Dropout, LSTM, Bidirectional, TextVectorization\n",
    "from tensorflow.keras.models import Model\n",
    "\n",
    "AUTOTUNE = tf.data.experimental.AUTOTUNE"
   ]
  },
  {
   "cell_type": "code",
   "execution_count": 45,
   "id": "a68c9771",
   "metadata": {},
   "outputs": [
    {
     "data": {
      "text/html": [
       "<div>\n",
       "<style scoped>\n",
       "    .dataframe tbody tr th:only-of-type {\n",
       "        vertical-align: middle;\n",
       "    }\n",
       "\n",
       "    .dataframe tbody tr th {\n",
       "        vertical-align: top;\n",
       "    }\n",
       "\n",
       "    .dataframe thead th {\n",
       "        text-align: right;\n",
       "    }\n",
       "</style>\n",
       "<table border=\"1\" class=\"dataframe\">\n",
       "  <thead>\n",
       "    <tr style=\"text-align: right;\">\n",
       "      <th></th>\n",
       "      <th>text</th>\n",
       "      <th>humor</th>\n",
       "    </tr>\n",
       "  </thead>\n",
       "  <tbody>\n",
       "    <tr>\n",
       "      <th>0</th>\n",
       "      <td>Joe biden rules out 2020 bid: 'guys, i'm not r...</td>\n",
       "      <td>False</td>\n",
       "    </tr>\n",
       "    <tr>\n",
       "      <th>1</th>\n",
       "      <td>Watch: darvish gave hitter whiplash with slow ...</td>\n",
       "      <td>False</td>\n",
       "    </tr>\n",
       "    <tr>\n",
       "      <th>2</th>\n",
       "      <td>What do you call a turtle without its shell? d...</td>\n",
       "      <td>True</td>\n",
       "    </tr>\n",
       "    <tr>\n",
       "      <th>3</th>\n",
       "      <td>5 reasons the 2016 election feels so personal</td>\n",
       "      <td>False</td>\n",
       "    </tr>\n",
       "    <tr>\n",
       "      <th>4</th>\n",
       "      <td>Pasco police shot mexican migrant from behind,...</td>\n",
       "      <td>False</td>\n",
       "    </tr>\n",
       "  </tbody>\n",
       "</table>\n",
       "</div>"
      ],
      "text/plain": [
       "                                                text  humor\n",
       "0  Joe biden rules out 2020 bid: 'guys, i'm not r...  False\n",
       "1  Watch: darvish gave hitter whiplash with slow ...  False\n",
       "2  What do you call a turtle without its shell? d...   True\n",
       "3      5 reasons the 2016 election feels so personal  False\n",
       "4  Pasco police shot mexican migrant from behind,...  False"
      ]
     },
     "execution_count": 45,
     "metadata": {},
     "output_type": "execute_result"
    }
   ],
   "source": [
    "df = pd.read_csv('data/dataset.csv')\n",
    "df.head()"
   ]
  },
  {
   "cell_type": "code",
   "execution_count": 46,
   "id": "6816a666",
   "metadata": {},
   "outputs": [],
   "source": [
    "# Transformar dados de humor de texto em formato numérico (0 para não engraçado, 1 para engraçado)\n",
    "le = LabelEncoder()\n",
    "df['humor'] = le.fit_transform(df['humor'].astype(str))"
   ]
  },
  {
   "cell_type": "code",
   "execution_count": 47,
   "id": "9ffd9430",
   "metadata": {},
   "outputs": [],
   "source": [
    "# Separar dados de entrada e de saída\n",
    "X = df['text'].values\n",
    "y = df['humor'].values"
   ]
  },
  {
   "cell_type": "code",
   "execution_count": 48,
   "id": "438ce23b",
   "metadata": {},
   "outputs": [],
   "source": [
    "# Calcular o tamanho médio das frases\n",
    "sent_lens = [len(sentence.split()) for sentence in X]\n",
    "avg_sent_lens = np.mean(sent_lens)\n",
    "\n",
    "# Definir comprimento de saída máximo para a sequência\n",
    "output_seq_length = int(np.percentile(sent_lens, 95))\n",
    "\n",
    "# Criar vetorizador de texto para pré-processar dados de entrada\n",
    "text_vectorizer = TextVectorization(output_sequence_length = output_seq_length)\n",
    "text_vectorizer.adapt(X)\n",
    "\n",
    "# Obter vocabulário de texto engraçado\n",
    "humor_text_vocab = text_vectorizer.get_vocabulary()"
   ]
  },
  {
   "cell_type": "code",
   "execution_count": 49,
   "id": "197ad11e",
   "metadata": {},
   "outputs": [],
   "source": [
    "# Definir camada de embedding para os tokens do texto\n",
    "token_embed = Embedding(input_dim = len(humor_text_vocab), output_dim = 128, mask_zero = True)"
   ]
  },
  {
   "cell_type": "code",
   "execution_count": 50,
   "id": "41752607",
   "metadata": {},
   "outputs": [],
   "source": [
    "# Separar os caracteres de cada frase\n",
    "def split_chars(text):\n",
    "    return \" \".join(list(text))\n",
    "\n",
    "xchars = [split_chars(sentence) for sentence in X]\n",
    "alphabet = string.ascii_lowercase + string.digits + string.punctuation\n",
    "\n",
    "# Calcular o tamanho médio de caracteres por frase\n",
    "char_lens = [len(sentence) for sentence in X]\n",
    "mean_char_len = np.mean(char_lens)"
   ]
  },
  {
   "cell_type": "code",
   "execution_count": 51,
   "id": "446dddd8",
   "metadata": {},
   "outputs": [],
   "source": [
    "# Definir comprimento de saída máximo para a sequência de caracteres\n",
    "output_seq_char_len = int(np.percentile(char_lens, 95))"
   ]
  },
  {
   "cell_type": "code",
   "execution_count": 52,
   "id": "cd34ae55",
   "metadata": {},
   "outputs": [],
   "source": [
    "# Criar vetorizador de caracteres para pré-processar dados de entrada\n",
    "char_vectorizer = TextVectorization(output_sequence_length = output_seq_char_len, \n",
    "                                    standardize = 'lower_and_strip_punctuation')\n",
    "char_vectorizer.adapt(xchars)"
   ]
  },
  {
   "cell_type": "code",
   "execution_count": 53,
   "id": "055bf611",
   "metadata": {},
   "outputs": [],
   "source": [
    "NUM_CHAR_TOKENS = len(alphabet) + 2 \n",
    "\n",
    "# Definir camada de embedding para os caracteres\n",
    "char_embed = Embedding(input_dim = NUM_CHAR_TOKENS, output_dim = 25, mask_zero = False)"
   ]
  },
  {
   "cell_type": "code",
   "execution_count": 54,
   "id": "23f33a5b",
   "metadata": {},
   "outputs": [],
   "source": [
    "# Criar uma camada de entrada para tokens (sequência de palavras)\n",
    "token_inputs = layers.Input(shape=[], dtype=tf.string)\n",
    "# Usar uma camada de pré-treinamento de embedding do TensorFlow Hub para criar embeddings (vetores numéricos) para cada token\n",
    "# a partir dos inputs da camada anterior\n",
    "token_embeddings = hub.KerasLayer(\"https://tfhub.dev/google/nnlm-en-dim128/2\")(token_inputs)\n",
    "# Adicionar uma camada densa (totalmente conectada) para processar os embeddings de token e capturar relações entre eles\n",
    "token_output = layers.Dense(128, activation = 'relu')(token_embeddings)\n",
    "# Criar um modelo que vai receber a entrada dos tokens e gerar a saída processada pela camada densa\n",
    "token_model = tf.keras.Model(token_inputs, token_output)"
   ]
  },
  {
   "cell_type": "code",
   "execution_count": 55,
   "id": "f514e55c",
   "metadata": {},
   "outputs": [],
   "source": [
    "# Criar uma camada de entrada para caracteres\n",
    "char_inputs = layers.Input(shape=(1,), dtype = tf.string, name = \"char_input\")\n",
    "# Criar uma camada de vetorização dos caracteres, convertendo cada caractere em um valor numérico\n",
    "char_vectors = layers.experimental.preprocessing.StringLookup(vocabulary = ['abcdefghijklmnopqrstuvwxyz'], \n",
    "                                                              mask_token=None)(char_inputs)\n",
    "\n",
    "char_embeddings = layers.Embedding(input_dim = len('abcdefghijklmnopqrstuvwxyz') + 1, \n",
    "                                   output_dim = 25, mask_zero = True)(char_vectors)\n",
    "\n",
    "char_bi_lstm = layers.Bidirectional(layers.LSTM(25))(char_embeddings)\n",
    "# Criar um modelo que recebe a entrada dos caracteres e gera a saída processada pelo embedding e pelo LSTM\n",
    "char_model = tf.keras.Model(char_inputs, char_bi_lstm)"
   ]
  },
  {
   "cell_type": "code",
   "execution_count": 56,
   "id": "4ded0352",
   "metadata": {},
   "outputs": [],
   "source": [
    "# Juntar as saídas dos modelos de tokens e caracteres em uma única camada\n",
    "token_char_concat = layers.Concatenate()([token_model.output, char_model.output])"
   ]
  },
  {
   "cell_type": "code",
   "execution_count": 57,
   "id": "4b1fdd2b",
   "metadata": {},
   "outputs": [],
   "source": [
    "# Adicionar camadas de Dropout para evitar overfitting do modelo\n",
    "combined_dropout = layers.Dropout(0.5)(token_char_concat)\n",
    "combined_dense = layers.Dense(100, activation = 'relu')(combined_dropout)\n",
    "final_dropout = layers.Dropout(0.2)(combined_dense)\n",
    "\n",
    "# Adicionar uma camada densa de saída com ativação sigmoid para classificação binária\n",
    "output_layer = layers.Dense(1, activation = 'sigmoid')(final_dropout)"
   ]
  },
  {
   "cell_type": "code",
   "execution_count": 58,
   "id": "013fdf62",
   "metadata": {},
   "outputs": [],
   "source": [
    "# Criar o modelo final, que recebe as entradas de tokens e caracteres e gera a saída processada pelas camadas criadas acima\n",
    "model = tf.keras.Model([token_model.input, char_model.input], output_layer)\n",
    "# Compilar o modelo com função de perda binária, otimizador Adam e métrica de acurácia\n",
    "model.compile(loss = 'binary_crossentropy', optimizer = 'adam', metrics = ['accuracy'])"
   ]
  },
  {
   "cell_type": "code",
   "execution_count": 59,
   "id": "aba488b4",
   "metadata": {},
   "outputs": [],
   "source": [
    "train_char_token_data = tf.data.Dataset.from_tensor_slices((X, xchars))\n",
    "\n",
    "train_char_token_labels = tf.data.Dataset.from_tensor_slices(y)\n",
    "\n",
    "train_char_token_ds = tf.data.Dataset.zip((train_char_token_data, train_char_token_labels)).batch(32).prefetch(AUTOTUNE)"
   ]
  },
  {
   "cell_type": "code",
   "execution_count": 60,
   "id": "a8224c86",
   "metadata": {},
   "outputs": [
    {
     "name": "stdout",
     "output_type": "stream",
     "text": [
      "Epoch 1/5\n",
      "6250/6250 [==============================] - 33s 4ms/step - loss: 0.2794 - accuracy: 0.8837\n",
      "Epoch 2/5\n",
      "6250/6250 [==============================] - 24s 4ms/step - loss: 0.2489 - accuracy: 0.8983\n",
      "Epoch 3/5\n",
      "6250/6250 [==============================] - 24s 4ms/step - loss: 0.2384 - accuracy: 0.9029\n",
      "Epoch 4/5\n",
      "6250/6250 [==============================] - 24s 4ms/step - loss: 0.2341 - accuracy: 0.9054\n",
      "Epoch 5/5\n",
      "6250/6250 [==============================] - 24s 4ms/step - loss: 0.2287 - accuracy: 0.9073\n"
     ]
    }
   ],
   "source": [
    "model_history = model.fit(train_char_token_ds, steps_per_epoch = int(len(train_char_token_ds) * 1), epochs = 7)"
   ]
  },
  {
   "cell_type": "code",
   "execution_count": 61,
   "id": "3f5379f4",
   "metadata": {},
   "outputs": [
    {
     "data": {
      "image/png": "[encoded data removed]",
      "text/plain": [
       "<Figure size 640x480 with 1 Axes>"
      ]
     },
     "metadata": {},
     "output_type": "display_data"
    }
   ],
   "source": [
    "loss = model_history.history['loss']\n",
    "epochs = range(1, len(loss) + 1)\n",
    "\n",
    "plt.plot(epochs, loss, 'bo', label = 'Training loss')\n",
    "plt.title('Training loss')\n",
    "plt.xlabel('Epochs')\n",
    "plt.ylabel('Loss')\n",
    "plt.legend()\n",
    "plt.show()"
   ]
  },
  {
   "cell_type": "code",
   "execution_count": null,
   "id": "51a34ef9",
   "metadata": {},
   "outputs": [],
   "source": []
  }
 ],
 "metadata": {
  "kernelspec": {
   "display_name": "Python 3 (ipykernel)",
   "language": "python",
   "name": "python3"
  },
  "language_info": {
   "codemirror_mode": {
    "name": "ipython",
    "version": 3
   },
   "file_extension": ".py",
   "mimetype": "text/x-python",
   "name": "python",
   "nbconvert_exporter": "python",
   "pygments_lexer": "ipython3",
   "version": "3.9.13"
  }
 },
 "nbformat": 4,
 "nbformat_minor": 5
}
